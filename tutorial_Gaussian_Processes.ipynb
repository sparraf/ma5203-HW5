{
 "cells": [
  {
   "cell_type": "markdown",
   "metadata": {},
   "source": [
    "# Procesos Gaussianos y performance de código"
   ]
  },
  {
   "cell_type": "code",
   "execution_count": null,
   "metadata": {
    "ExecuteTime": {
     "end_time": "2018-07-12T15:25:07.612218Z",
     "start_time": "2018-07-12T15:25:06.723045Z"
    }
   },
   "outputs": [],
   "source": [
    "%matplotlib inline\n",
    "\n",
    "import numpy as np\n",
    "import matplotlib.pyplot as plt\n",
    "import seaborn as sns\n",
    "\n",
    "from scipy.optimize import fmin_l_bfgs_b as fmin  # minimizar\n",
    "import time  # medir tiempo\n",
    "from numba import jit  # decorador para compilar funciones a C"
   ]
  },
  {
   "cell_type": "markdown",
   "metadata": {},
   "source": [
    "__Configuración para los gráficos__"
   ]
  },
  {
   "cell_type": "code",
   "execution_count": null,
   "metadata": {
    "ExecuteTime": {
     "end_time": "2018-07-12T15:25:07.618856Z",
     "start_time": "2018-07-12T15:25:07.614073Z"
    }
   },
   "outputs": [],
   "source": [
    "sns.set_context('notebook', font_scale=2)\n",
    "sns.set_style('white')\n",
    "plt.rcParams['figure.figsize'] = (14, 5)"
   ]
  },
  {
   "cell_type": "markdown",
   "metadata": {},
   "source": [
    "# Mediciones de tiempo"
   ]
  },
  {
   "cell_type": "code",
   "execution_count": null,
   "metadata": {
    "ExecuteTime": {
     "end_time": "2018-07-12T15:25:07.706415Z",
     "start_time": "2018-07-12T15:25:07.620755Z"
    }
   },
   "outputs": [],
   "source": [
    "def fill_matrix(n):\n",
    "    \"\"\" Llena una matriz aleatoria de n x n \"\"\"\n",
    "    A = np.zeros((n, n))\n",
    "    for i in range(n):\n",
    "        for j in range(n):\n",
    "            A[i, j] = np.random.random()\n",
    "    return A"
   ]
  },
  {
   "cell_type": "code",
   "execution_count": null,
   "metadata": {
    "ExecuteTime": {
     "end_time": "2018-07-12T15:25:22.124579Z",
     "start_time": "2018-07-12T15:25:07.708108Z"
    }
   },
   "outputs": [],
   "source": [
    "ti = time.time()\n",
    "fill_matrix(5000)\n",
    "dt = time.time() - ti\n",
    "print('Tiempo ejecución {} s'.format(dt))"
   ]
  },
  {
   "cell_type": "code",
   "execution_count": null,
   "metadata": {
    "ExecuteTime": {
     "end_time": "2018-07-12T15:27:17.941687Z",
     "start_time": "2018-07-12T15:25:22.131879Z"
    }
   },
   "outputs": [],
   "source": [
    "%timeit fill_matrix(5000)"
   ]
  },
  {
   "cell_type": "markdown",
   "metadata": {},
   "source": [
    "__Intentemos mejorarla__"
   ]
  },
  {
   "cell_type": "code",
   "execution_count": null,
   "metadata": {
    "ExecuteTime": {
     "end_time": "2018-07-12T15:27:17.983515Z",
     "start_time": "2018-07-12T15:27:17.944699Z"
    }
   },
   "outputs": [],
   "source": [
    "@jit\n",
    "def fill_matrix2(n):\n",
    "    \"\"\" Llena una matriz aleatoria de n x n \"\"\"\n",
    "    A = np.zeros((n, n))\n",
    "    for i in range(n):\n",
    "        for j in range(n):\n",
    "            A[i, j] = np.random.random()\n",
    "    return A"
   ]
  },
  {
   "cell_type": "code",
   "execution_count": null,
   "metadata": {
    "ExecuteTime": {
     "end_time": "2018-07-12T15:27:18.653381Z",
     "start_time": "2018-07-12T15:27:17.985359Z"
    }
   },
   "outputs": [],
   "source": [
    "ti = time.time()\n",
    "fill_matrix2(5000)\n",
    "dt = time.time() - ti\n",
    "print('Tiempo ejecución {} s'.format(dt))"
   ]
  },
  {
   "cell_type": "code",
   "execution_count": null,
   "metadata": {
    "ExecuteTime": {
     "end_time": "2018-07-12T15:27:21.296262Z",
     "start_time": "2018-07-12T15:27:18.656142Z"
    }
   },
   "outputs": [],
   "source": [
    "%timeit fill_matrix2(5000)"
   ]
  },
  {
   "cell_type": "markdown",
   "metadata": {},
   "source": [
    "__podemos mejorar la función aún mas?__"
   ]
  },
  {
   "cell_type": "code",
   "execution_count": null,
   "metadata": {
    "ExecuteTime": {
     "end_time": "2018-07-12T15:27:21.301620Z",
     "start_time": "2018-07-12T15:27:21.298776Z"
    }
   },
   "outputs": [],
   "source": [
    "def fill_matrix3(n):\n",
    "    \"\"\" Llena una matriz aleatoria de n x n \"\"\"\n",
    "    A = np.random.random(size=(n, n))\n",
    "    return A"
   ]
  },
  {
   "cell_type": "code",
   "execution_count": null,
   "metadata": {
    "ExecuteTime": {
     "end_time": "2018-07-12T15:27:21.891281Z",
     "start_time": "2018-07-12T15:27:21.303488Z"
    }
   },
   "outputs": [],
   "source": [
    "ti = time.time()\n",
    "fill_matrix3(5000)\n",
    "dt = time.time() - ti\n",
    "print('Tiempo ejecución {} s'.format(dt))"
   ]
  },
  {
   "cell_type": "code",
   "execution_count": null,
   "metadata": {
    "ExecuteTime": {
     "end_time": "2018-07-12T15:27:24.838287Z",
     "start_time": "2018-07-12T15:27:21.893209Z"
    }
   },
   "outputs": [],
   "source": [
    "%timeit fill_matrix3(5000)"
   ]
  },
  {
   "cell_type": "markdown",
   "metadata": {},
   "source": [
    "__hay que tener cuidado con @jit !__"
   ]
  },
  {
   "cell_type": "code",
   "execution_count": null,
   "metadata": {
    "ExecuteTime": {
     "end_time": "2018-07-12T15:27:24.842626Z",
     "start_time": "2018-07-12T15:27:24.840231Z"
    }
   },
   "outputs": [],
   "source": [
    "cte = 10"
   ]
  },
  {
   "cell_type": "code",
   "execution_count": null,
   "metadata": {
    "ExecuteTime": {
     "end_time": "2018-07-12T15:27:24.934130Z",
     "start_time": "2018-07-12T15:27:24.844300Z"
    }
   },
   "outputs": [],
   "source": [
    "def fn_nojit(x):\n",
    "    return x + cte"
   ]
  },
  {
   "cell_type": "code",
   "execution_count": null,
   "metadata": {
    "ExecuteTime": {
     "end_time": "2018-07-12T15:27:25.023269Z",
     "start_time": "2018-07-12T15:27:24.937958Z"
    }
   },
   "outputs": [],
   "source": [
    "@jit\n",
    "def fn_conjit(x):\n",
    "    return x + cte"
   ]
  },
  {
   "cell_type": "code",
   "execution_count": null,
   "metadata": {
    "ExecuteTime": {
     "end_time": "2018-07-12T15:27:25.143929Z",
     "start_time": "2018-07-12T15:27:25.028479Z"
    }
   },
   "outputs": [],
   "source": [
    "print('Sin jit ', fn_nojit(3))\n",
    "print('Con jit ', fn_conjit(3))"
   ]
  },
  {
   "cell_type": "markdown",
   "metadata": {
    "ExecuteTime": {
     "end_time": "2018-07-10T00:19:46.062885Z",
     "start_time": "2018-07-10T00:19:46.058713Z"
    }
   },
   "source": [
    "__modifiquemos `cte`__"
   ]
  },
  {
   "cell_type": "code",
   "execution_count": null,
   "metadata": {
    "ExecuteTime": {
     "end_time": "2018-07-12T15:27:25.210714Z",
     "start_time": "2018-07-12T15:27:25.146346Z"
    }
   },
   "outputs": [],
   "source": [
    "cte = 50"
   ]
  },
  {
   "cell_type": "code",
   "execution_count": null,
   "metadata": {
    "ExecuteTime": {
     "end_time": "2018-07-12T15:27:25.289416Z",
     "start_time": "2018-07-12T15:27:25.212816Z"
    }
   },
   "outputs": [],
   "source": [
    "print('Sin jit ', fn_nojit(3))\n",
    "print('Con jit ', fn_conjit(3))"
   ]
  },
  {
   "cell_type": "markdown",
   "metadata": {},
   "source": [
    "__¿Por que ocurre esto?__"
   ]
  },
  {
   "cell_type": "markdown",
   "metadata": {},
   "source": [
    "# Procesos Gaussianos"
   ]
  },
  {
   "cell_type": "code",
   "execution_count": null,
   "metadata": {
    "ExecuteTime": {
     "end_time": "2018-07-12T15:27:25.380141Z",
     "start_time": "2018-07-12T15:27:25.291543Z"
    }
   },
   "outputs": [],
   "source": [
    "def K_SE(a, b, gamma=1. / 2, sigma=1):\n",
    "    \"\"\"\n",
    "    Squared Exponential kernel\n",
    "    Returns the gram matrix given by the kernel\n",
    "    k(a,b) = sigma**2*exp(-gamma*(a-b)**2)\n",
    "    Note that: gamma = 1 /(2*lengthscale**2)\n",
    "    \n",
    "    Inputs:\n",
    "    a:(numpy array)   Array length n_a with first input\n",
    "    b:(numpy array)   Array length n_b with second input\n",
    "    gamma:(float)     Kernel parameter\n",
    "    sigma:(float)     Kernel parameter, signal variance\n",
    "\n",
    "    Returns:\n",
    "    (numpy array) n_a X n_b gram matrix where element\n",
    "    [i,j] = k(a[i], b[j])\n",
    "    \"\"\"\n",
    "    # transform to array if a single point\n",
    "    if np.ndim(a) == 0: a = np.array([a])\n",
    "    if np.ndim(b) == 0: b = np.array([b])\n",
    "    # create matrix\n",
    "    gram = np.zeros((len(a), len(b)))\n",
    "    # compute\n",
    "    for i, va in enumerate(a):\n",
    "        for j, vb in enumerate(b):\n",
    "            gram[i, j] = np.exp(-gamma * (va - vb)**2)\n",
    "    # condition if a single point\n",
    "    if (len(a) == 1) or (len(b) == 1):\n",
    "        return gram.reshape(-1)\n",
    "    else:\n",
    "        return gram\n",
    "\n",
    "\n",
    "def like_SE(theta, y, t):\n",
    "    \"\"\"\n",
    "    Computes negative log-likelihood when using SE kernel\n",
    "    Designed for training w.r.t log of hyperparameters, not imposing restrictions on solver\n",
    "    \n",
    "    Inputs:\n",
    "    theta:(numpy array) Kernel parameters, sigma_noise | gamma | sigma_signal\n",
    "    y:(numpy array)     Array of observations-length n\n",
    "    t:(numpy array)     Array of time-length n\n",
    "    \n",
    "    Returns:\n",
    "    (float) Computed nll\n",
    "    \"\"\"\n",
    "    sigma_noise, gamma_1, sig_1 = np.exp(theta)\n",
    "    Gram = K_SE(\n",
    "        t, t, gamma=gamma_1,\n",
    "        sigma=sig_1) + sigma_noise**2 * np.identity(len(t))\n",
    "    # inverse with cholesky\n",
    "    cGg = np.linalg.cholesky(Gram)\n",
    "    invGram = np.linalg.inv(cGg.T) @ np.linalg.inv(cGg)\n",
    "    # nll\n",
    "    nll = 2 * np.log(np.diag(cGg)).sum() + y.T @ (invGram @ y) \n",
    "    return 0.5 * nll + 0.5 * len(y) * np.log(2 * np.pi)"
   ]
  },
  {
   "cell_type": "markdown",
   "metadata": {},
   "source": [
    "## Cargar datos"
   ]
  },
  {
   "cell_type": "code",
   "execution_count": null,
   "metadata": {
    "ExecuteTime": {
     "end_time": "2018-07-12T15:27:25.515678Z",
     "start_time": "2018-07-12T15:27:25.382242Z"
    }
   },
   "outputs": [],
   "source": [
    "np.random.seed(123)\n",
    "data = np.loadtxt('wool.csv', delimiter=',')\n",
    "\n",
    "t = data[:, 0]\n",
    "y = data[:, 1]\n",
    "\n",
    "prop = 0.15\n",
    "i_obs = np.random.choice(np.arange(len(t)), int(prop * len(t)), replace=False)\n",
    "\n",
    "t_obs = t[i_obs]\n",
    "y_obs = y[i_obs]\n",
    "n_obs = len(i_obs)"
   ]
  },
  {
   "cell_type": "code",
   "execution_count": null,
   "metadata": {
    "ExecuteTime": {
     "end_time": "2018-07-12T15:27:25.898266Z",
     "start_time": "2018-07-12T15:27:25.518172Z"
    }
   },
   "outputs": [],
   "source": [
    "plt.plot(t, y, label='Señal real')\n",
    "plt.scatter(t_obs, y_obs, c='r', label='Obs')\n",
    "plt.legend()"
   ]
  },
  {
   "cell_type": "markdown",
   "metadata": {},
   "source": [
    "## Prueba a mano"
   ]
  },
  {
   "cell_type": "code",
   "execution_count": null,
   "metadata": {
    "ExecuteTime": {
     "end_time": "2018-07-12T15:27:25.918820Z",
     "start_time": "2018-07-12T15:27:25.900260Z"
    }
   },
   "outputs": [],
   "source": [
    "# hand-chosen hyperparameter\n",
    "sigma_n_GP_test = .001\n",
    "gamma_test = .01\n",
    "sigma_test = .1\n",
    "\n",
    "print('Negative log-likelihood para hiperámetros escogidos: ',\n",
    "      like_SE([sigma_n_GP_test, gamma_test, sigma_test], y_obs, t_obs))"
   ]
  },
  {
   "cell_type": "code",
   "execution_count": null,
   "metadata": {
    "ExecuteTime": {
     "end_time": "2018-07-12T15:27:26.833535Z",
     "start_time": "2018-07-12T15:27:25.936972Z"
    }
   },
   "outputs": [],
   "source": [
    "# process prior covariance \n",
    "cov = K_SE(t, t, gamma=gamma_test, sigma=sigma_test)\n",
    "\n",
    "# observations prior covariance \n",
    "cov_obs = K_SE(t_obs, t_obs, gamma=gamma_test, sigma=sigma_test)\n",
    "\n",
    "# K(x*, x) kernel evaluation between obs and test points\n",
    "K_star = K_SE(t, t_obs, gamma=gamma_test, sigma=sigma_test)\n",
    "\n",
    "# cholesky\n",
    "cGg = np.linalg.cholesky(cov_obs + sigma_n_GP_test**2 * np.identity(n_obs))\n",
    "\n",
    "# inverse covariance matrix (gram)\n",
    "invGramg = np.linalg.inv(cGg.T) @ np.linalg.inv(cGg)\n",
    "\n",
    "# temporal matrix K(x*, x) (K(x, x) + sigma * I)^-1\n",
    "temp = K_star @ invGramg\n",
    "# posterior mean\n",
    "m_post = temp @ y_obs\n",
    "# posterior covariance\n",
    "sigma_post = np.diag(cov - temp @ K_star.T)\n",
    "std_dev = np.sqrt(sigma_post)\n",
    "\n",
    "# plot estimation, obs and real data\n",
    "plt.plot(t, m_post, c='#00BFFF', lw=4, label='Media de la posterior')\n",
    "plt.fill_between(\n",
    "    t,\n",
    "    m_post - 2 * std_dev,\n",
    "    m_post + 2 * std_dev,\n",
    "    facecolor='blue',\n",
    "    alpha=0.2,\n",
    "    label='95% IC')\n",
    "plt.plot(t, y, color='black', ls='--', lw=2, label='Señal real')\n",
    "plt.plot(t_obs, y_obs, 'r.', ms=14, label='Observaciones')\n",
    "leg = plt.legend(ncol=4, frameon=True, shadow=False, loc=9, edgecolor='k')\n",
    "frame = leg.get_frame()\n",
    "frame.set_facecolor('0.9')\n",
    "plt.ylabel(r'$y=f(x) + \\eta$')\n",
    "plt.ylabel(r'$y=f(x)$')\n",
    "plt.xlim(t[0], t[-1])\n",
    "plt.title('GP usando {}% de las observaciones - No entrenado'.format(int(prop*100)))\n",
    "plt.tight_layout()"
   ]
  },
  {
   "cell_type": "markdown",
   "metadata": {},
   "source": [
    "## Entrenamiento"
   ]
  },
  {
   "cell_type": "code",
   "execution_count": null,
   "metadata": {
    "ExecuteTime": {
     "end_time": "2018-07-12T15:27:28.483939Z",
     "start_time": "2018-07-12T15:27:26.835516Z"
    }
   },
   "outputs": [],
   "source": [
    "# fixed args of function\n",
    "args = (y_obs, t_obs)\n",
    "\n",
    "# initial point\n",
    "params0 = np.asarray([1, .1, 1])\n",
    "X0 = np.log(params0)\n",
    "\n",
    "print('Condicion inicial optimizador: ', params0)\n",
    "\n",
    "time_GP = time.time()\n",
    "X_opt, f_GP, data = fmin(\n",
    "    like_SE,\n",
    "    X0,\n",
    "    None,\n",
    "    args,\n",
    "    approx_grad=True,\n",
    "    disp=1,\n",
    "    factr=0.00000001 / (2.22E-12),\n",
    "    maxiter=1000)\n",
    "time_GP = time.time() - time_GP\n",
    "\n",
    "print(\"Tiempo entrenamiento {:.4f} (s)\".format(time_GP))\n",
    "\n",
    "sigma_n_GP_opt, gamma_opt, sigma_opt = np.exp(X_opt)\n",
    "print('Hiperparametros encontrados: ', np.exp(X_opt), 'NLL: ', f_GP)"
   ]
  },
  {
   "cell_type": "code",
   "execution_count": null,
   "metadata": {
    "ExecuteTime": {
     "end_time": "2018-07-12T15:27:29.199772Z",
     "start_time": "2018-07-12T15:27:28.502914Z"
    }
   },
   "outputs": [],
   "source": [
    "# process prior covariance \n",
    "cov = K_SE(t, t, gamma=gamma_opt, sigma=sigma_opt)\n",
    "\n",
    "# observations prior covariance \n",
    "cov_obs = K_SE(t_obs, t_obs, gamma=gamma_opt, sigma=sigma_opt)\n",
    "\n",
    "# K(x*, x) kernel evaluation between obs and test points\n",
    "K_star = K_SE(t, t_obs, gamma=gamma_opt, sigma=sigma_opt)\n",
    "\n",
    "# cholesky\n",
    "cGg = np.linalg.cholesky(cov_obs + sigma_n_GP_opt**2 * np.identity(n_obs))\n",
    "\n",
    "# inverse covariance matrix (gram)\n",
    "invGramg = np.linalg.inv(cGg.T) @ np.linalg.inv(cGg)\n",
    "\n",
    "# temporal matrix K(x*, x) (K(x, x) + sigma * I)^-1\n",
    "temp = K_star @ invGramg\n",
    "# posterior mean\n",
    "m_post = temp @ y_obs\n",
    "# posterior covariance\n",
    "sigma_post = np.diag(cov - temp @ K_star.T)\n",
    "std_dev = np.sqrt(sigma_post)\n",
    "\n",
    "# plot estimation, obs and real data\n",
    "plt.plot(t, m_post, c='#00BFFF', lw=4, label='Media de la posterior')\n",
    "plt.fill_between(\n",
    "    t,\n",
    "    m_post - 2 * std_dev,\n",
    "    m_post + 2 * std_dev,\n",
    "    facecolor='blue',\n",
    "    alpha=0.2,\n",
    "    label='95% IC')\n",
    "plt.plot(t, y, color='black', ls='--', lw=2, label='Señal real')\n",
    "plt.plot(t_obs, y_obs, 'r.', ms=14, label='Observaciones')\n",
    "leg = plt.legend(ncol=4, frameon=True, shadow=False, loc=9, edgecolor='k')\n",
    "frame = leg.get_frame()\n",
    "frame.set_facecolor('0.9')\n",
    "plt.ylabel(r'$y=f(x) + \\eta$')\n",
    "plt.ylabel(r'$y=f(x)$')\n",
    "plt.xlim(t[0], t[-1])\n",
    "plt.title('GP usando {}% de las observaciones - Entrenado'.format(int(prop*100)))\n",
    "plt.tight_layout()"
   ]
  },
  {
   "cell_type": "markdown",
   "metadata": {},
   "source": [
    "## Señal más grande"
   ]
  },
  {
   "cell_type": "code",
   "execution_count": null,
   "metadata": {
    "ExecuteTime": {
     "end_time": "2018-07-12T15:27:29.398073Z",
     "start_time": "2018-07-12T15:27:29.201603Z"
    }
   },
   "outputs": [],
   "source": [
    "np.random.seed(666)\n",
    "\n",
    "n_points = 10000\n",
    "t = np.linspace(0, 250, n_points)\n",
    "b = np.array([\n",
    "    9.877821e1, 1.049727e-2, 1.004899e2, 6.748111e1, 2.312977e1, 7.19945e1,\n",
    "    1.789980e2, 1.838938e1\n",
    "])\n",
    "y = b[0] * np.exp(-b[1] * t) + b[2] * np.exp(\n",
    "    -(t - b[3])**2 / b[4]**2) + b[5] * np.exp(-(t - b[6])**2 / b[7]**2)\n",
    "y = (y - y.mean()) / y.std()\n",
    "y_real = y.copy()\n",
    "\n",
    "percent = 0.1\n",
    "i_obs = np.random.choice(\n",
    "    np.arange(0, n_points, 1), int(percent * n_points), replace=False)\n",
    "\n",
    "###########################\n",
    "y += np.random.normal(scale=0.2, size=n_points)\n",
    "###########################\n",
    "\n",
    "y_obs = y[i_obs]\n",
    "t_obs = t[i_obs]\n",
    "n_obs = len(y_obs)\n",
    "\n",
    "plt.plot(t, y_real)\n",
    "plt.scatter(t_obs, y_obs, c='r')"
   ]
  },
  {
   "cell_type": "code",
   "execution_count": null,
   "metadata": {
    "ExecuteTime": {
     "end_time": "2018-07-12T15:30:53.486950Z",
     "start_time": "2018-07-12T15:27:29.399936Z"
    }
   },
   "outputs": [],
   "source": [
    "# fixed args of function\n",
    "args = (y_obs, t_obs)\n",
    "\n",
    "# initial point\n",
    "params0 = np.asarray([1, .1, 1])\n",
    "X0 = np.log(params0)\n",
    "\n",
    "print('Condicion inicial optimizador: ', params0)\n",
    "\n",
    "time_GP = time.time()\n",
    "X_opt, f_GP, data = fmin(\n",
    "    like_SE,\n",
    "    X0,\n",
    "    None,\n",
    "    args,\n",
    "    approx_grad=True,\n",
    "    disp=1,\n",
    "    factr=0.00000001 / (2.22E-12),\n",
    "    maxiter=1000)\n",
    "time_GP = time.time() - time_GP\n",
    "\n",
    "print(\"Tiempo entrenamiento {:.4f} (s)\".format(time_GP))\n",
    "\n",
    "sigma_n_GP_opt, gamma_opt, sigma_opt = np.exp(X_opt)\n",
    "print('Hiperparametros encontrados: ', np.exp(X_opt), 'NLL: ', f_GP)"
   ]
  },
  {
   "cell_type": "code",
   "execution_count": null,
   "metadata": {
    "ExecuteTime": {
     "end_time": "2018-07-12T15:34:48.717985Z",
     "start_time": "2018-07-12T15:30:53.491954Z"
    }
   },
   "outputs": [],
   "source": [
    "# process prior covariance \n",
    "cov = K_SE(t, t, gamma=gamma_opt, sigma=sigma_opt)\n",
    "\n",
    "# observations prior covariance \n",
    "cov_obs = K_SE(t_obs, t_obs, gamma=gamma_opt, sigma=sigma_opt)\n",
    "\n",
    "# K(x*, x) kernel evaluation between obs and test points\n",
    "K_star = K_SE(t, t_obs, gamma=gamma_opt, sigma=sigma_opt)\n",
    "\n",
    "# cholesky\n",
    "cGg = np.linalg.cholesky(cov_obs + sigma_n_GP_opt**2 * np.identity(n_obs))\n",
    "\n",
    "# inverse covariance matrix (gram)\n",
    "invGramg = np.linalg.inv(cGg.T) @ np.linalg.inv(cGg)\n",
    "\n",
    "# temporal matrix K(x*, x) (K(x, x) + sigma * I)^-1\n",
    "temp = K_star @ invGramg\n",
    "# posterior mean\n",
    "m_post = temp @ y_obs\n",
    "# posterior covariance\n",
    "sigma_post = np.diag(cov - temp @ K_star.T)\n",
    "std_dev = np.sqrt(sigma_post)\n",
    "\n",
    "# plot estimation, obs and real data\n",
    "plt.plot(t, m_post, c='#00BFFF', lw=4, label='Media de la posterior')\n",
    "plt.fill_between(\n",
    "    t,\n",
    "    m_post - 2 * std_dev,\n",
    "    m_post + 2 * std_dev,\n",
    "    facecolor='blue',\n",
    "    alpha=0.2,\n",
    "    label='95% IC')\n",
    "plt.plot(t, y_real, color='black', ls='--', lw=2, label='Señal real')\n",
    "plt.plot(t_obs, y_obs, 'r.', ms=5, label='Observaciones', alpha=0.5)\n",
    "leg = plt.legend(ncol=4, frameon=True, shadow=False, loc=9, edgecolor='k')\n",
    "frame = leg.get_frame()\n",
    "frame.set_facecolor('0.9')\n",
    "plt.ylabel(r'$y=f(x) + \\eta$')\n",
    "plt.ylabel(r'$y=f(x)$')\n",
    "plt.xlim(t[0], t[-1])\n",
    "plt.title('GP usando {}% de las observaciones - Entrenado'.format(int(percent*100)))\n",
    "plt.tight_layout()"
   ]
  },
  {
   "cell_type": "code",
   "execution_count": null,
   "metadata": {},
   "outputs": [],
   "source": []
  }
 ],
 "metadata": {
  "kernelspec": {
   "display_name": "Python 3",
   "language": "python",
   "name": "python3"
  },
  "language_info": {
   "codemirror_mode": {
    "name": "ipython",
    "version": 3
   },
   "file_extension": ".py",
   "mimetype": "text/x-python",
   "name": "python",
   "nbconvert_exporter": "python",
   "pygments_lexer": "ipython3",
   "version": "3.6.4"
  },
  "toc": {
   "nav_menu": {},
   "number_sections": true,
   "sideBar": false,
   "skip_h1_title": false,
   "title_cell": "Table of Contents",
   "title_sidebar": "Contents",
   "toc_cell": false,
   "toc_position": {
    "height": "246px",
    "left": "89px",
    "top": "137px",
    "width": "292px"
   },
   "toc_section_display": true,
   "toc_window_display": false
  }
 },
 "nbformat": 4,
 "nbformat_minor": 2
}
