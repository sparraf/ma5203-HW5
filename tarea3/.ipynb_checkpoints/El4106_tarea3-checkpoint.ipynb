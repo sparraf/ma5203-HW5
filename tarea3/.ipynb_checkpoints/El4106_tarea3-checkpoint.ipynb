{
 "cells": [
  {
   "cell_type": "markdown",
   "metadata": {},
   "source": [
    "## B.1 Importar librerías"
   ]
  },
  {
   "cell_type": "code",
   "execution_count": null,
   "metadata": {},
   "outputs": [],
   "source": [
    "import numpy as np\n",
    "from sklearn.datasets import make_moons, make_classification\n",
    "from sklearn.cross_validation import train_test_split\n",
    "#from sklearn.model_selection import train_test_split\n",
    "from sklearn.metrics import roc_curve, auc\n",
    "from sklearn.naive_bayes import GaussianNB\n",
    "from sklearn.svm import SVC\n",
    "#from sklearn.ensemble import GradientBoostingClassifier, RandomForestClassifier\n",
    "%matplotlib inline\n",
    "import matplotlib.pylab as plt"
   ]
  },
  {
   "cell_type": "markdown",
   "metadata": {},
   "source": [
    "## B.2 Creacion de datasets\n",
    "\n",
    "Descomente las lineas 2 y 3, para crear distintos datasets"
   ]
  },
  {
   "cell_type": "code",
   "execution_count": null,
   "metadata": {},
   "outputs": [],
   "source": [
    "N = 2000\n",
    "X, Y = make_moons(n_samples=N, noise=0.25)\n",
    "#X, Y = make_classification(n_samples=N, n_features=2, n_redundant=0, \n",
    "#                           n_informative=2, n_clusters_per_class=2, class_sep=0.5)\n",
    "fig = plt.figure(figsize=(6, 4))\n",
    "ax = fig.add_subplot(1, 1, 1)\n",
    "ax.scatter(X[Y==0, 0], X[Y==0, 1], c='k', marker='x', linewidth=1, alpha=0.5, s=20, label='Clase 1')\n",
    "ax.scatter(X[Y==1, 0], X[Y==1, 1], c='k', marker='o', linewidth=0, alpha=0.5, s=20, label='Clase 2')\n",
    "plt.grid()\n",
    "plt.legend()\n",
    "X_train, X_test, Y_train, Y_test = train_test_split(X, Y, train_size=0.5)\n",
    "x_min, x_max = X[:, 0].min() - 0.5, X[:, 0].max() + 0.5\n",
    "y_min, y_max = X[:, 1].min() - 0.5, X[:, 1].max() + 0.5\n",
    "xx, yy = np.meshgrid(np.arange(x_min, x_max, 0.05), np.arange(y_min, y_max, 0.05))"
   ]
  },
  {
   "cell_type": "markdown",
   "metadata": {},
   "source": [
    "## B.3 Naive Bayes Classifier\n",
    "\n",
    "Por defecto se usa función de verosimilitud Gaussiana"
   ]
  },
  {
   "cell_type": "code",
   "execution_count": null,
   "metadata": {},
   "outputs": [],
   "source": [
    "classifier = GaussianNB()\n",
    "classifier.fit(X_train, Y_train)\n",
    "\n",
    "\n",
    "fig = plt.figure(figsize=(12, 10))\n",
    "\n",
    "ax = fig.add_subplot(2, 2, 1)\n",
    "Y_pred = classifier.predict(X_test)\n",
    "ax.scatter(X_test[Y_test==0, 0], X_test[Y_test==0, 1], c=Y_pred[Y_test==0], \n",
    "           marker='x', cmap=plt.cm.RdBu, vmin=0, vmax=1,\n",
    "           linewidth=1, alpha=0.5, s=20, label='Clase 1')\n",
    "ax.scatter(X_test[Y_test==1, 0], X_test[Y_test==1, 1], c=Y_pred[Y_test==1], \n",
    "           marker='o', cmap=plt.cm.RdBu, vmin=0, vmax=1, \n",
    "           linewidth=0, alpha=0.5, s=20, label='Clase 2')\n",
    "plt.title('Clasificaci\\'on en el conjunto de test')\n",
    "\n",
    "ax = fig.add_subplot(2, 2, 4)\n",
    "ax.scatter(X[Y==0, 0], X[Y==0, 1], c='k', marker='x', linewidth=1, alpha=0.5, s=20, label='Clase 1')\n",
    "ax.scatter(X[Y==1, 0], X[Y==1, 1], c='k', marker='o', linewidth=0, alpha=0.5, s=20, label='Clase 2')\n",
    "for mu, sigma, c in zip(classifier.theta_, classifier.sigma_, ['r', 'b']):\n",
    "    ax.plot(mu[0] + sigma[0]*np.cos(2.0*np.pi*np.linspace(0, 1, num=100)),\n",
    "           mu[1] + sigma[1]*np.sin(2.0*np.pi*np.linspace(0, 1, num=100)), c)\n",
    "    ax.plot(mu[0] + 2*sigma[0]*np.cos(2.0*np.pi*np.linspace(0, 1, num=100)),\n",
    "           mu[1] + 2*sigma[1]*np.sin(2.0*np.pi*np.linspace(0, 1, num=100)), c)\n",
    "plt.title('Medias y varianzas aprendidas')\n",
    "\n",
    "ax = fig.add_subplot(2, 2, 3)\n",
    "Z = classifier.predict_proba(np.c_[xx.ravel(), yy.ravel()])[:, 1]\n",
    "ax.contourf(xx, yy, Z.reshape(xx.shape), cmap=plt.cm.RdBu, alpha=0.5)\n",
    "ax.scatter(X[Y==0, 0], X[Y==0, 1], c='k', marker='x', linewidth=1, alpha=0.5, s=20, label='Clase 1')\n",
    "ax.scatter(X[Y==1, 0], X[Y==1, 1], c='k', marker='o', linewidth=0, alpha=0.5, s=20, label='Clase 2')\n",
    "plt.title('Probabilidad de clasificaci\\'on')\n",
    "\n",
    "ax = fig.add_subplot(2, 2, 2)\n",
    "Y_pred = classifier.predict_proba(X_test)\n",
    "fpr, tpr, th = roc_curve(Y_test, Y_pred[:, 1])\n",
    "ax.plot(fpr, tpr, linewidth=4, alpha=0.5, label='Test')\n",
    "print(\"Area bajo la curva ROC (test): %f\" %(auc(fpr, tpr)))\n",
    "fpr, tpr, th = roc_curve(Y_train, classifier.predict_proba(X_train)[:, 1])\n",
    "ax.plot(fpr, tpr, linewidth=4, alpha=0.5, label='Train')\n",
    "print(\"Area bajo la curva ROC (train): %f\" %(auc(fpr, tpr)))\n",
    "plt.legend(loc=4)\n",
    "ax.set_xlabel('False Positive Rate')\n",
    "ax.set_ylabel('True Positive Rate')\n",
    "ax.set_title('curva ROC')\n",
    "plt.grid()\n",
    "plt.tight_layout()"
   ]
  },
  {
   "cell_type": "markdown",
   "metadata": {},
   "source": [
    "## B.4 Support Vector Machine\n",
    "\n",
    "- Seleccione kernel='linear' y ajuste C $\\in [0.1, 1.0, 10.0, 100.0]$\n",
    "- Seleccione kernel='rbf' y ajuste C y gamma $\\in [0.1, 1.0, 10.0, 100.0]$\n"
   ]
  },
  {
   "cell_type": "code",
   "execution_count": null,
   "metadata": {},
   "outputs": [],
   "source": [
    "classifier = SVC(C=0.1, kernel='rbf', gamma=0.1, probability=True)\n",
    "classifier.fit(X_train, Y_train)\n",
    "\n",
    "\n",
    "fig = plt.figure(figsize=(12, 10))\n",
    "\n",
    "ax = fig.add_subplot(2, 2, 1)\n",
    "Y_pred = classifier.predict(X_test)\n",
    "ax.scatter(X_test[Y_test==0, 0], X_test[Y_test==0, 1], c=Y_pred[Y_test==0], \n",
    "           marker='x', cmap=plt.cm.RdBu, vmin=0, vmax=1,\n",
    "           linewidth=1, alpha=0.5, s=20, label='Clase 1')\n",
    "ax.scatter(X_test[Y_test==1, 0], X_test[Y_test==1, 1], c=Y_pred[Y_test==1], \n",
    "           marker='o', cmap=plt.cm.RdBu, vmin=0, vmax=1, \n",
    "           linewidth=0, alpha=0.5, s=20, label='Clase 2')\n",
    "plt.title('Clasificaci\\'on en el conjunto de test')\n",
    "\n",
    "ax = fig.add_subplot(2, 2, 3)\n",
    "Z = classifier.predict_proba(np.c_[xx.ravel(), yy.ravel()])[:, 1]\n",
    "ax.contourf(xx, yy, Z.reshape(xx.shape), cmap=plt.cm.RdBu, alpha=0.5)\n",
    "ax.scatter(X[Y==0, 0], X[Y==0, 1], c='k', marker='x', linewidth=1, alpha=0.5, s=20, label='Clase 1')\n",
    "ax.scatter(X[Y==1, 0], X[Y==1, 1], c='k', marker='o', linewidth=0, alpha=0.5, s=20, label='Clase 2')\n",
    "plt.title('Probabilidad de clasificaci\\'on')\n",
    "\n",
    "ax = fig.add_subplot(2, 2, 2)\n",
    "Y_pred = classifier.predict_proba(X_test)\n",
    "fpr, tpr, th = roc_curve(Y_test, Y_pred[:, 1])\n",
    "ax.plot(fpr, tpr, linewidth=4, alpha=0.5, label='Test')\n",
    "print(\"Area bajo la curva ROC (test): %f\" %(auc(fpr, tpr)))\n",
    "fpr, tpr, th = roc_curve(Y_train, classifier.predict_proba(X_train)[:, 1])\n",
    "ax.plot(fpr, tpr, linewidth=4, alpha=0.5, label='Train')\n",
    "print(\"Area bajo la curva ROC (train): %f\" %(auc(fpr, tpr)))\n",
    "plt.legend(loc=4)\n",
    "ax.set_xlabel('False Positive Rate')\n",
    "ax.set_ylabel('True Positive Rate')\n",
    "ax.set_title('curva ROC')\n",
    "plt.grid()\n",
    "\n",
    "ax = fig.add_subplot(2, 2, 4)\n",
    "ax.scatter(X_train[Y_train==0, 0], X_train[Y_train==0, 1], c='k', \n",
    "           marker='x', linewidth=1, alpha=0.5, s=20, label='Clase 1')\n",
    "ax.scatter(X_train[Y_train==1, 0], X_train[Y_train==1, 1], c='k', \n",
    "           marker='o', linewidth=0, alpha=0.5, s=20, label='Clase 2')\n",
    "ax.scatter(X_train[classifier.support_, 0], X_train[classifier.support_, 1], \n",
    "           c='r', linewidth=1, alpha=0.25, s=100)\n",
    "plt.title('Vectores de soporte')\n",
    "\n",
    "plt.tight_layout()\n",
    "print(\"%d SVs para la clase 1\" % (classifier.n_support_[0]))\n",
    "print(\"%d SVs para la clase 2\" % (classifier.n_support_[1]))"
   ]
  },
  {
   "cell_type": "code",
   "execution_count": null,
   "metadata": {
    "collapsed": true
   },
   "outputs": [],
   "source": []
  }
 ],
 "metadata": {
  "kernelspec": {
   "display_name": "Python 3",
   "language": "python",
   "name": "python3"
  },
  "language_info": {
   "codemirror_mode": {
    "name": "ipython",
    "version": 3
   },
   "file_extension": ".py",
   "mimetype": "text/x-python",
   "name": "python",
   "nbconvert_exporter": "python",
   "pygments_lexer": "ipython3",
   "version": "3.6.4"
  }
 },
 "nbformat": 4,
 "nbformat_minor": 1
}
